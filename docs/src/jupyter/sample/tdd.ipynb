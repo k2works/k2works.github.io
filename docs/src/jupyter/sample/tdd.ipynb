{
 "cells": [
  {
   "cell_type": "code",
   "execution_count": 1,
   "metadata": {
    "pycharm": {
     "is_executing": false
    }
   },
   "outputs": [
    {
     "name": "stdout",
     "output_type": "stream",
     "text": [
      "Collecting iplantuml\n",
      "  Downloading https://files.pythonhosted.org/packages/10/b9/4db9b9ce81184d1d67f82284ca6131258b32f3f69376ee88aab5f7ff60a4/IPlantUML-0.1.1.tar.gz\n",
      "Collecting plantweb\n",
      "  Downloading https://files.pythonhosted.org/packages/d6/6f/9ab1a1c3e33aaa0c0931983578c09336b092c75dce777ea666d3032f756e/plantweb-1.2.1-py3-none-any.whl\n",
      "Requirement already satisfied: docutils in /root/.pyenv/versions/3.7.0/lib/python3.7/site-packages (from plantweb->iplantuml) (0.15.2)\n",
      "Requirement already satisfied: six in /root/.pyenv/versions/3.7.0/lib/python3.7/site-packages (from plantweb->iplantuml) (1.13.0)\n",
      "Requirement already satisfied: requests in /root/.pyenv/versions/3.7.0/lib/python3.7/site-packages (from plantweb->iplantuml) (2.22.0)\n",
      "Requirement already satisfied: urllib3!=1.25.0,!=1.25.1,<1.26,>=1.21.1 in /root/.pyenv/versions/3.7.0/lib/python3.7/site-packages (from requests->plantweb->iplantuml) (1.25.7)\n",
      "Requirement already satisfied: idna<2.9,>=2.5 in /root/.pyenv/versions/3.7.0/lib/python3.7/site-packages (from requests->plantweb->iplantuml) (2.8)\n",
      "Requirement already satisfied: certifi>=2017.4.17 in /root/.pyenv/versions/3.7.0/lib/python3.7/site-packages (from requests->plantweb->iplantuml) (2019.11.28)\n",
      "Requirement already satisfied: chardet<3.1.0,>=3.0.2 in /root/.pyenv/versions/3.7.0/lib/python3.7/site-packages (from requests->plantweb->iplantuml) (3.0.4)\n",
      "Installing collected packages: plantweb, iplantuml\n",
      "    Running setup.py install for iplantuml ... \u001b[?25ldone\n",
      "\u001b[?25hSuccessfully installed iplantuml-0.1.1 plantweb-1.2.1\n"
     ]
    }
   ],
   "source": [
    "import sys\n",
    "!{sys.executable} -m pip install iplantuml\n",
    "import iplantuml"
   ]
  },
  {
   "cell_type": "markdown",
   "metadata": {},
   "source": [
    "# PythonでTDD\n",
    "\n",
    "\n",
    "## 仕様\n",
    "\n",
    ">1 から 100 までの数をプリントするプログラムを書け。 \n",
    "\n",
    ">ただし 3 の倍数のときは数の代わりに｢Fizz｣と、\n",
    "\n",
    ">5 の倍数のときは｢Buzz｣とプリントし、\n",
    "\n",
    ">3 と 5 両方の倍数の場合には｢FizzBuzz｣とプリントすること。"
   ]
  },
  {
   "cell_type": "markdown",
   "metadata": {},
   "source": [
    "## 設計"
   ]
  },
  {
   "cell_type": "markdown",
   "metadata": {},
   "source": [
    "### ユースケース図"
   ]
  },
  {
   "cell_type": "code",
   "execution_count": 2,
   "metadata": {},
   "outputs": [
    {
     "data": {
      "image/svg+xml": [
       "<svg contentScriptType=\"application/ecmascript\" contentStyleType=\"text/css\" height=\"122px\" preserveAspectRatio=\"none\" style=\"width:218px;height:122px;\" version=\"1.1\" viewBox=\"0 0 218 122\" width=\"218px\" xmlns=\"http://www.w3.org/2000/svg\" xmlns:xlink=\"http://www.w3.org/1999/xlink\" zoomAndPan=\"magnify\"><defs><filter height=\"300%\" id=\"fj7xku4jof38\" width=\"300%\" x=\"-1\" y=\"-1\"><feGaussianBlur result=\"blurOut\" stdDeviation=\"2.0\"/><feColorMatrix in=\"blurOut\" result=\"blurOut2\" type=\"matrix\" values=\"0 0 0 0 0 0 0 0 0 0 0 0 0 0 0 0 0 0 .4 0\"/><feOffset dx=\"4.0\" dy=\"4.0\" in=\"blurOut2\" result=\"blurOut3\"/><feBlend in=\"SourceGraphic\" in2=\"blurOut3\" mode=\"normal\"/></filter></defs><g><!--MD5=[a23cccc3013e69a4429c7db1545f5788]\n",
       "cluster FizzBuzz--><rect fill=\"#FFFFFF\" filter=\"url(#fj7xku4jof38)\" height=\"75\" style=\"stroke: #000000; stroke-width: 1.5;\" width=\"127\" x=\"80\" y=\"24\"/><text fill=\"#000000\" font-family=\"sans-serif\" font-size=\"14\" font-weight=\"bold\" lengthAdjust=\"spacingAndGlyphs\" textLength=\"65\" x=\"111\" y=\"38.3184\">FizzBuzz</text><ellipse cx=\"143.5477\" cy=\"69.8995\" fill=\"#FEFECE\" filter=\"url(#fj7xku4jof38)\" rx=\"47.5477\" ry=\"12.8995\" style=\"stroke: #A80036; stroke-width: 1.5;\"/><text fill=\"#000000\" font-family=\"sans-serif\" font-size=\"14\" lengthAdjust=\"spacingAndGlyphs\" textLength=\"63\" x=\"112.0477\" y=\"73.3995\">Put Value</text><!--MD5=[fee662a292a0353a69bd162820bae93b]\n",
       "entity User--><ellipse cx=\"21\" cy=\"39.5\" fill=\"#FEFECE\" filter=\"url(#fj7xku4jof38)\" rx=\"8\" ry=\"8\" style=\"stroke: #A80036; stroke-width: 2.0;\"/><path d=\"M21,47.5 L21,74.5 M8,55.5 L34,55.5 M21,74.5 L8,89.5 M21,74.5 L34,89.5 \" fill=\"none\" filter=\"url(#fj7xku4jof38)\" style=\"stroke: #A80036; stroke-width: 2.0;\"/><text fill=\"#000000\" font-family=\"sans-serif\" font-size=\"14\" lengthAdjust=\"spacingAndGlyphs\" textLength=\"29\" x=\"6.5\" y=\"108.8184\">User</text><!--MD5=[b9d6abbb399b678697bdc8aed57fc663]\n",
       "link User to Put Value--><path d=\"M36.2961,70 C50.9465,70 74.5219,70 95.7431,70 \" fill=\"none\" id=\"User-Put Value\" style=\"stroke: #A80036; stroke-width: 1.0;\"/><!--MD5=[9a0f23798ffac0aa3afe33036bc8e0ef]\n",
       "@startuml\n",
       "left to right direction\n",
       "skinparam packageStyle rectangle\n",
       "actor User\n",
       "rectangle FizzBuzz {\n",
       "  User - - (Put Value)\n",
       "}\n",
       "@enduml\n",
       "\n",
       "PlantUML version 1.2019.12(Sun Nov 03 10:24:54 UTC 2019)\n",
       "(GPL source distribution)\n",
       "Java Runtime: OpenJDK Runtime Environment\n",
       "JVM: OpenJDK 64-Bit Server VM\n",
       "Java Version: 1.8.0_222-8u222-b10-1ubuntu1~16.04.1-b10\n",
       "Operating System: Linux\n",
       "Default Encoding: UTF-8\n",
       "Language: ja\n",
       "Country: JP\n",
       "--></g></svg>"
      ],
      "text/plain": [
       "<IPython.core.display.SVG object>"
      ]
     },
     "execution_count": 2,
     "metadata": {},
     "output_type": "execute_result"
    }
   ],
   "source": [
    "%%plantuml --jar\n",
    "\n",
    "@startuml\n",
    "left to right direction\n",
    "skinparam packageStyle rectangle\n",
    "actor User\n",
    "rectangle FizzBuzz {\n",
    "  User -- (Put Value)\n",
    "}\n",
    "@enduml"
   ]
  },
  {
   "cell_type": "markdown",
   "metadata": {},
   "source": [
    "### クラス図"
   ]
  },
  {
   "cell_type": "code",
   "execution_count": 3,
   "metadata": {},
   "outputs": [
    {
     "data": {
      "image/svg+xml": [
       "<svg contentScriptType=\"application/ecmascript\" contentStyleType=\"text/css\" height=\"88px\" preserveAspectRatio=\"none\" style=\"width:138px;height:88px;\" version=\"1.1\" viewBox=\"0 0 138 88\" width=\"138px\" xmlns=\"http://www.w3.org/2000/svg\" xmlns:xlink=\"http://www.w3.org/1999/xlink\" zoomAndPan=\"magnify\"><defs><filter height=\"300%\" id=\"f13kgvyecgvkt0\" width=\"300%\" x=\"-1\" y=\"-1\"><feGaussianBlur result=\"blurOut\" stdDeviation=\"2.0\"/><feColorMatrix in=\"blurOut\" result=\"blurOut2\" type=\"matrix\" values=\"0 0 0 0 0 0 0 0 0 0 0 0 0 0 0 0 0 0 .4 0\"/><feOffset dx=\"4.0\" dy=\"4.0\" in=\"blurOut2\" result=\"blurOut3\"/><feBlend in=\"SourceGraphic\" in2=\"blurOut3\" mode=\"normal\"/></filter></defs><g><!--MD5=[35eb25c30cef028d1c48f502659dece3]\n",
       "class FizzBuzz--><rect fill=\"#FEFECE\" filter=\"url(#f13kgvyecgvkt0)\" height=\"70\" id=\"FizzBuzz\" style=\"stroke: #A80036; stroke-width: 1.5;\" width=\"120\" x=\"7\" y=\"7\"/><ellipse cx=\"39.55\" cy=\"23\" fill=\"#ADD1B2\" rx=\"11\" ry=\"11\" style=\"stroke: #A80036; stroke-width: 1.0;\"/><path d=\"M42.9406,24.4844 Q42.5188,29.4688 39.2063,29.4688 Q37.2531,29.4688 36.2063,27.4688 Q35.3313,25.7969 35.3313,22.8594 Q35.3313,19.8438 36.3,18.0781 Q37.3,16.2031 39.2063,16.2031 Q42.2375,16.2031 42.8625,20.6406 L40.7844,20.6406 Q40.425,18.1719 39.2063,18.1719 Q37.4719,18.1719 37.4719,22.8594 Q37.4719,27.5 39.2219,27.5 Q40.6594,27.5 40.8156,24.4844 L42.9406,24.4844 Z \"/><text fill=\"#000000\" font-family=\"sans-serif\" font-size=\"12\" lengthAdjust=\"spacingAndGlyphs\" textLength=\"49\" x=\"57.45\" y=\"27.5586\">FizzBuzz</text><line style=\"stroke: #A80036; stroke-width: 1.5;\" x1=\"8\" x2=\"126\" y1=\"39\" y2=\"39\"/><line style=\"stroke: #A80036; stroke-width: 1.5;\" x1=\"8\" x2=\"126\" y1=\"47\" y2=\"47\"/><ellipse cx=\"18\" cy=\"58\" fill=\"#84BE84\" rx=\"3\" ry=\"3\" style=\"stroke: #038048; stroke-width: 1.0;\"/><text fill=\"#000000\" font-family=\"sans-serif\" font-size=\"11\" lengthAdjust=\"spacingAndGlyphs\" text-decoration=\"underline\" textLength=\"94\" x=\"27\" y=\"60.6787\">generate(number)</text><ellipse cx=\"18\" cy=\"69\" fill=\"#84BE84\" rx=\"3\" ry=\"3\" style=\"stroke: #038048; stroke-width: 1.0;\"/><text fill=\"#000000\" font-family=\"sans-serif\" font-size=\"11\" lengthAdjust=\"spacingAndGlyphs\" textLength=\"72\" x=\"27\" y=\"71.6787\">iterate(count)</text><!--MD5=[0f31065aa407cfd245ae6e703bbe35e5]\n",
       "@startuml\n",
       "class FizzBuzz {\n",
       "+ {static}generate(number)\n",
       "+ iterate(count)\n",
       "}\n",
       "\n",
       "@enduml\n",
       "\n",
       "PlantUML version 1.2019.12(Sun Nov 03 10:24:54 UTC 2019)\n",
       "(GPL source distribution)\n",
       "Java Runtime: OpenJDK Runtime Environment\n",
       "JVM: OpenJDK 64-Bit Server VM\n",
       "Java Version: 1.8.0_222-8u222-b10-1ubuntu1~16.04.1-b10\n",
       "Operating System: Linux\n",
       "Default Encoding: UTF-8\n",
       "Language: ja\n",
       "Country: JP\n",
       "--></g></svg>"
      ],
      "text/plain": [
       "<IPython.core.display.SVG object>"
      ]
     },
     "execution_count": 3,
     "metadata": {},
     "output_type": "execute_result"
    }
   ],
   "source": [
    "%%plantuml --jar\n",
    "\n",
    "@startuml\n",
    "class FizzBuzz {\n",
    "+ {static}generate(number)\n",
    "+ iterate(count)\n",
    "}\n",
    "\n",
    "@enduml"
   ]
  },
  {
   "cell_type": "markdown",
   "metadata": {},
   "source": [
    "### シーケンス図"
   ]
  },
  {
   "cell_type": "code",
   "execution_count": 4,
   "metadata": {},
   "outputs": [
    {
     "data": {
      "image/svg+xml": [
       "<svg contentScriptType=\"application/ecmascript\" contentStyleType=\"text/css\" height=\"299px\" preserveAspectRatio=\"none\" style=\"width:221px;height:299px;\" version=\"1.1\" viewBox=\"0 0 221 299\" width=\"221px\" xmlns=\"http://www.w3.org/2000/svg\" xmlns:xlink=\"http://www.w3.org/1999/xlink\" zoomAndPan=\"magnify\"><defs><filter height=\"300%\" id=\"fdrd9ndgo8mo1\" width=\"300%\" x=\"-1\" y=\"-1\"><feGaussianBlur result=\"blurOut\" stdDeviation=\"2.0\"/><feColorMatrix in=\"blurOut\" result=\"blurOut2\" type=\"matrix\" values=\"0 0 0 0 0 0 0 0 0 0 0 0 0 0 0 0 0 0 .4 0\"/><feOffset dx=\"4.0\" dy=\"4.0\" in=\"blurOut2\" result=\"blurOut3\"/><feBlend in=\"SourceGraphic\" in2=\"blurOut3\" mode=\"normal\"/></filter></defs><g><rect fill=\"#FFFFFF\" filter=\"url(#fdrd9ndgo8mo1)\" height=\"76\" style=\"stroke: #A80036; stroke-width: 1.0;\" width=\"10\" x=\"100.5\" y=\"113\"/><rect fill=\"#FFFFFF\" filter=\"url(#fdrd9ndgo8mo1)\" height=\"69\" style=\"stroke: #000000; stroke-width: 2.0;\" width=\"197\" x=\"13\" y=\"128\"/><line style=\"stroke: #A80036; stroke-width: 1.0; stroke-dasharray: 5.0,5.0;\" x1=\"40\" x2=\"40\" y1=\"84\" y2=\"214\"/><line style=\"stroke: #A80036; stroke-width: 1.0; stroke-dasharray: 5.0,5.0;\" x1=\"105\" x2=\"105\" y1=\"84\" y2=\"214\"/><text fill=\"#000000\" font-family=\"sans-serif\" font-size=\"14\" lengthAdjust=\"spacingAndGlyphs\" textLength=\"29\" x=\"23\" y=\"82.3184\">User</text><ellipse cx=\"40.5\" cy=\"13\" fill=\"#FEFECE\" filter=\"url(#fdrd9ndgo8mo1)\" rx=\"8\" ry=\"8\" style=\"stroke: #A80036; stroke-width: 2.0;\"/><path d=\"M40.5,21 L40.5,48 M27.5,29 L53.5,29 M40.5,48 L27.5,63 M40.5,48 L53.5,63 \" fill=\"none\" filter=\"url(#fdrd9ndgo8mo1)\" style=\"stroke: #A80036; stroke-width: 2.0;\"/><text fill=\"#000000\" font-family=\"sans-serif\" font-size=\"14\" lengthAdjust=\"spacingAndGlyphs\" textLength=\"29\" x=\"23\" y=\"225.3184\">User</text><ellipse cx=\"40.5\" cy=\"237\" fill=\"#FEFECE\" filter=\"url(#fdrd9ndgo8mo1)\" rx=\"8\" ry=\"8\" style=\"stroke: #A80036; stroke-width: 2.0;\"/><path d=\"M40.5,245 L40.5,272 M27.5,253 L53.5,253 M40.5,272 L27.5,287 M40.5,272 L53.5,287 \" fill=\"none\" filter=\"url(#fdrd9ndgo8mo1)\" style=\"stroke: #A80036; stroke-width: 2.0;\"/><rect fill=\"#FEFECE\" filter=\"url(#fdrd9ndgo8mo1)\" height=\"28\" style=\"stroke: #A80036; stroke-width: 1.5;\" width=\"71\" x=\"68\" y=\"51\"/><text fill=\"#000000\" font-family=\"sans-serif\" font-size=\"14\" lengthAdjust=\"spacingAndGlyphs\" textLength=\"57\" x=\"75\" y=\"70.3184\">FizzBuzz</text><rect fill=\"#FEFECE\" filter=\"url(#fdrd9ndgo8mo1)\" height=\"28\" style=\"stroke: #A80036; stroke-width: 1.5;\" width=\"71\" x=\"68\" y=\"213\"/><text fill=\"#000000\" font-family=\"sans-serif\" font-size=\"14\" lengthAdjust=\"spacingAndGlyphs\" textLength=\"57\" x=\"75\" y=\"232.3184\">FizzBuzz</text><rect fill=\"#FFFFFF\" filter=\"url(#fdrd9ndgo8mo1)\" height=\"76\" style=\"stroke: #A80036; stroke-width: 1.0;\" width=\"10\" x=\"100.5\" y=\"113\"/><polygon fill=\"#A80036\" points=\"88.5,109,98.5,113,88.5,117,92.5,113\" style=\"stroke: #A80036; stroke-width: 1.0;\"/><line style=\"stroke: #A80036; stroke-width: 1.0;\" x1=\"40.5\" x2=\"94.5\" y1=\"113\" y2=\"113\"/><text fill=\"#000000\" font-family=\"sans-serif\" font-size=\"13\" lengthAdjust=\"spacingAndGlyphs\" textLength=\"40\" x=\"47.5\" y=\"109.4385\">iterate</text><path d=\"M13,128 L90,128 L90,133 L80,143 L13,143 L13,128 \" fill=\"#EEEEEE\" style=\"stroke: #000000; stroke-width: 1.0;\"/><rect fill=\"none\" height=\"69\" style=\"stroke: #000000; stroke-width: 2.0;\" width=\"197\" x=\"13\" y=\"128\"/><text fill=\"#000000\" font-family=\"sans-serif\" font-size=\"13\" font-weight=\"bold\" lengthAdjust=\"spacingAndGlyphs\" textLength=\"32\" x=\"28\" y=\"140.4385\">loop</text><text fill=\"#000000\" font-family=\"sans-serif\" font-size=\"11\" font-weight=\"bold\" lengthAdjust=\"spacingAndGlyphs\" textLength=\"100\" x=\"105\" y=\"139.6787\">[for each iterate]</text><line style=\"stroke: #A80036; stroke-width: 1.0;\" x1=\"110.5\" x2=\"152.5\" y1=\"162\" y2=\"162\"/><line style=\"stroke: #A80036; stroke-width: 1.0;\" x1=\"152.5\" x2=\"152.5\" y1=\"162\" y2=\"175\"/><line style=\"stroke: #A80036; stroke-width: 1.0;\" x1=\"111.5\" x2=\"152.5\" y1=\"175\" y2=\"175\"/><polygon fill=\"#A80036\" points=\"121.5,171,111.5,175,121.5,179,117.5,175\" style=\"stroke: #A80036; stroke-width: 1.0;\"/><text fill=\"#000000\" font-family=\"sans-serif\" font-size=\"13\" lengthAdjust=\"spacingAndGlyphs\" textLength=\"53\" x=\"117.5\" y=\"158.4385\">generate</text><polygon fill=\"#A80036\" points=\"51.5,185,41.5,189,51.5,193,47.5,189\" style=\"stroke: #A80036; stroke-width: 1.0;\"/><line style=\"stroke: #A80036; stroke-width: 1.0;\" x1=\"45.5\" x2=\"104.5\" y1=\"189\" y2=\"189\"/><!--MD5=[dc3589d7ac422903cbb8e8293d39de4e]\n",
       "@startuml\n",
       "actor User\n",
       "\n",
       "User -> FizzBuzz: iterate\n",
       "loop for each iterate\n",
       "      activate FizzBuzz\n",
       "      FizzBuzz -> FizzBuzz: generate\n",
       "            User <- FizzBuzz\n",
       "      deactivate FizzBuzz\n",
       "end\n",
       "@enduml\n",
       "\n",
       "PlantUML version 1.2019.12(Sun Nov 03 10:24:54 UTC 2019)\n",
       "(GPL source distribution)\n",
       "Java Runtime: OpenJDK Runtime Environment\n",
       "JVM: OpenJDK 64-Bit Server VM\n",
       "Java Version: 1.8.0_222-8u222-b10-1ubuntu1~16.04.1-b10\n",
       "Operating System: Linux\n",
       "Default Encoding: UTF-8\n",
       "Language: ja\n",
       "Country: JP\n",
       "--></g></svg>"
      ],
      "text/plain": [
       "<IPython.core.display.SVG object>"
      ]
     },
     "execution_count": 4,
     "metadata": {},
     "output_type": "execute_result"
    }
   ],
   "source": [
    "%%plantuml --jar\n",
    "\n",
    "@startuml\n",
    "actor User\n",
    "\n",
    "User -> FizzBuzz: iterate\n",
    "loop for each iterate\n",
    "      activate FizzBuzz\n",
    "      FizzBuzz -> FizzBuzz: generate\n",
    "            User <- FizzBuzz\n",
    "      deactivate FizzBuzz\n",
    "end\n",
    "@enduml"
   ]
  },
  {
   "cell_type": "markdown",
   "metadata": {},
   "source": [
    "### TODO リスト\n",
    "\n",
    "-  1 から 100 まで数をプリントできるようにする。\n",
    "-  3 の倍数のときは数の代わりに｢Fizz｣をプリントできるようにする。\n",
    "-  5 の倍数のときは｢Buzz｣とプリントできるようにする。\n",
    "-  3 と 5 両方の倍数の場合には｢FizzBuzz｣とプリントできるようにする。"
   ]
  },
  {
   "cell_type": "markdown",
   "metadata": {},
   "source": [
    "## 開発"
   ]
  },
  {
   "cell_type": "code",
   "execution_count": 45,
   "metadata": {
    "pycharm": {
     "is_executing": false
    }
   },
   "outputs": [
    {
     "name": "stderr",
     "output_type": "stream",
     "text": [
      ".\n",
      "----------------------------------------------------------------------\n",
      "Ran 1 test in 0.001s\n",
      "\n",
      "OK\n"
     ]
    },
    {
     "data": {
      "text/plain": [
       "<unittest.main.TestProgram at 0x10b3e3590>"
      ]
     },
     "execution_count": 45,
     "metadata": {},
     "output_type": "execute_result"
    }
   ],
   "source": [
    "import unittest\n",
    "\n",
    "def fizz_buzz(number):\n",
    "    return 'Fizz'\n",
    "\n",
    "class FizzBuzzTest(unittest.TestCase):\n",
    "    def test3の倍数のときはFizzを出す(self):\n",
    "        self.assertEqual(fizz_buzz(3),'Fizz')\n",
    "\n",
    "\n",
    "unittest.main(argv=['first-arg-is-ignored'],exit=False)"
   ]
  }
 ],
 "metadata": {
  "kernelspec": {
   "display_name": "Python 3",
   "language": "python",
   "name": "python3"
  },
  "language_info": {
   "codemirror_mode": {
    "name": "ipython",
    "version": 3
   },
   "file_extension": ".py",
   "mimetype": "text/x-python",
   "name": "python",
   "nbconvert_exporter": "python",
   "pygments_lexer": "ipython3",
   "version": "3.7.0"
  },
  "pycharm": {
   "stem_cell": {
    "cell_type": "raw",
    "metadata": {
     "collapsed": false
    },
    "source": []
   }
  }
 },
 "nbformat": 4,
 "nbformat_minor": 2
}
