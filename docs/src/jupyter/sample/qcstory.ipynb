{
 "nbformat": 4,
 "nbformat_minor": 2,
 "metadata": {
  "language_info": {
   "name": "python",
   "codemirror_mode": {
    "name": "ipython",
    "version": 3
   }
  },
  "orig_nbformat": 2,
  "file_extension": ".py",
  "mimetype": "text/x-python",
  "name": "python",
  "npconvert_exporter": "python",
  "pygments_lexer": "ipython3",
  "version": 3
 },
 "cells": [
  {
   "cell_type": "markdown",
   "metadata": {},
   "source": [
    "# QCストーリー"
   ]
  },
  {
   "cell_type": "markdown",
   "metadata": {},
   "source": [
    "## テーマの選択\n",
    "\n",
    "* マトリックス図\n",
    "* パレート図\n",
    "* 層別\n",
    "* チェックシート"
   ]
  },
  {
   "cell_type": "markdown",
   "metadata": {},
   "source": [
    "## 現状把握\n",
    "\n",
    "* パレート図\n",
    "* 管理図\n",
    "* ヒストグラム\n",
    "* クラフ\n"
   ]
  },
  {
   "cell_type": "markdown",
   "metadata": {},
   "source": [
    "## 目標の設定\n",
    "\n",
    "* 系統図法\n",
    "* グラフ"
   ]
  },
  {
   "cell_type": "markdown",
   "metadata": {},
   "source": [
    "## 要因の解析\n",
    "\n",
    "* 特性要因図\n",
    "* ヒストグラム\n",
    "* 層別\n",
    "* 散布図"
   ]
  },
  {
   "cell_type": "markdown",
   "metadata": {},
   "source": [
    "## 対策の検討と実施\n",
    "\n",
    "* 特性要因図\n",
    "* 関連図法\n",
    "* 系統図法"
   ]
  },
  {
   "cell_type": "markdown",
   "metadata": {},
   "source": [
    "## 効果の確認と標準化\n",
    "\n",
    "* パレート図\n",
    "* グラフ"
   ]
  }
 ]
}