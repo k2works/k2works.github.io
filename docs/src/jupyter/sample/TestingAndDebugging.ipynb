{
 "cells": [
  {
   "cell_type": "markdown",
   "metadata": {
    "colab_type": "text",
    "id": "l03yqyWznTcX",
    "slideshow": {
     "slide_type": "slide"
    }
   },
   "source": [
    "# [Testing and Debugging Jupyter Notebooks](https://kolesnikov.ga/Testing_and_Debugging_Jupyter_Notebooks/)\n"
   ]
  },
  {
   "cell_type": "markdown",
   "metadata": {
    "colab_type": "text",
    "id": "AkIXccj9npFw",
    "slideshow": {
     "slide_type": "slide"
    }
   },
   "source": [
    "## Running Example"
   ]
  },
  {
   "cell_type": "code",
   "execution_count": 3,
   "metadata": {
    "colab": {},
    "colab_type": "code",
    "id": "5M7kYQYtnRdg",
    "pycharm": {
     "is_executing": false
    },
    "slideshow": {
     "slide_type": "subslide"
    }
   },
   "outputs": [],
   "source": [
    "def add(a, b):\n",
    "    \"\"\"Return the sum of a and b.\"\"\"\n",
    "    sum = a\n",
    "    return sum\n"
   ]
  },
  {
   "cell_type": "markdown",
   "metadata": {
    "colab_type": "text",
    "id": "hsUO8IYtnvTo",
    "slideshow": {
     "slide_type": "slide"
    }
   },
   "source": [
    "## Doctest"
   ]
  },
  {
   "cell_type": "code",
   "execution_count": 4,
   "metadata": {
    "colab": {
     "base_uri": "https://localhost:8080/",
     "height": 395
    },
    "colab_type": "code",
    "executionInfo": {
     "elapsed": 881,
     "status": "ok",
     "timestamp": 1572433329178,
     "user": {
      "displayName": "Kakigi Katuyuki",
      "photoUrl": "https://lh3.googleusercontent.com/a-/AAuE7mAPb3OlX2ysmc2JV2nXUX_C3MVRAV6O3-HkTzd6=s64",
      "userId": "00784428381987829532"
     },
     "user_tz": -540
    },
    "id": "gWXNlxJanxhi",
    "outputId": "c3632f18-b676-482e-f711-450029efc0ad",
    "slideshow": {
     "slide_type": "subslide"
    }
   },
   "outputs": [
    {
     "name": "stdout",
     "output_type": "stream",
     "text": [
      "Trying:\n",
      "    add(2, 2)\n",
      "Expecting:\n",
      "    4\n",
      "**********************************************************************\n",
      "File \"__main__\", line 4, in __main__.add\n",
      "Failed example:\n",
      "    add(2, 2)\n",
      "Expected:\n",
      "    4\n",
      "Got:\n",
      "    2\n",
      "1 items had no tests:\n",
      "    __main__\n",
      "**********************************************************************\n",
      "1 items had failures:\n",
      "   1 of   1 in __main__.add\n",
      "1 tests in 2 items.\n",
      "0 passed and 1 failed.\n",
      "***Test Failed*** 1 failures.\n"
     ]
    },
    {
     "data": {
      "text/plain": [
       "TestResults(failed=1, attempted=1)"
      ]
     },
     "execution_count": 4,
     "metadata": {},
     "output_type": "execute_result"
    }
   ],
   "source": [
    "def add(a, b):\n",
    "    \"\"\"Return the sum of a and b.\n",
    "\n",
    "    >>> add(2, 2)\n",
    "    4\n",
    "    \"\"\"\n",
    "    sum = a\n",
    "    return sum\n",
    "    \n",
    "import doctest\n",
    "doctest.testmod(verbose=True)"
   ]
  },
  {
   "cell_type": "markdown",
   "metadata": {
    "colab_type": "text",
    "id": "2quaRHFZn5xy",
    "slideshow": {
     "slide_type": "slide"
    }
   },
   "source": [
    "## Unittest"
   ]
  },
  {
   "cell_type": "code",
   "execution_count": 11,
   "metadata": {
    "colab": {
     "base_uri": "https://localhost:8080/",
     "height": 272
    },
    "colab_type": "code",
    "executionInfo": {
     "elapsed": 926,
     "status": "ok",
     "timestamp": 1572321410496,
     "user": {
      "displayName": "Kakigi Katuyuki",
      "photoUrl": "https://lh3.googleusercontent.com/a-/AAuE7mAPb3OlX2ysmc2JV2nXUX_C3MVRAV6O3-HkTzd6=s64",
      "userId": "00784428381987829532"
     },
     "user_tz": -540
    },
    "id": "7-Vm_pZ5n7qt",
    "outputId": "73b6c9d5-1d47-495c-950b-7dd07a9e52c4",
    "slideshow": {
     "slide_type": "subslide"
    }
   },
   "outputs": [
    {
     "name": "stderr",
     "output_type": "stream",
     "text": [
      "test_add (__main__.TestNotebook) ... FAIL\n",
      "\n",
      "======================================================================\n",
      "FAIL: test_add (__main__.TestNotebook)\n",
      "----------------------------------------------------------------------\n",
      "Traceback (most recent call last):\n",
      "  File \"<ipython-input-11-c1b67217d183>\", line 10, in test_add\n",
      "    self.assertEqual(add(2, 2), 5)\n",
      "AssertionError: 4 != 5\n",
      "\n",
      "----------------------------------------------------------------------\n",
      "Ran 1 test in 0.001s\n",
      "\n",
      "FAILED (failures=1)\n"
     ]
    },
    {
     "data": {
      "text/plain": [
       "<unittest.main.TestProgram at 0x1093d37d0>"
      ]
     },
     "execution_count": 11,
     "metadata": {},
     "output_type": "execute_result"
    }
   ],
   "source": [
    "import unittest\n",
    "\n",
    "def add(a, b):\n",
    "    sum = a + b \n",
    "    return sum\n",
    "\n",
    "class TestNotebook(unittest.TestCase):\n",
    "\n",
    "    def test_add(self):\n",
    "        self.assertEqual(add(2, 2), 5)\n",
    "\n",
    "unittest.main(argv=[''], verbosity=2, exit=False)"
   ]
  },
  {
   "cell_type": "markdown",
   "metadata": {
    "colab_type": "text",
    "id": "Jx9HLmkAoBoO",
    "slideshow": {
     "slide_type": "slide"
    }
   },
   "source": [
    "## Debugging a Failed Test"
   ]
  },
  {
   "cell_type": "code",
   "execution_count": 12,
   "metadata": {
    "colab": {
     "base_uri": "https://localhost:8080/",
     "height": 719
    },
    "colab_type": "code",
    "executionInfo": {
     "elapsed": 9336,
     "status": "ok",
     "timestamp": 1572433412853,
     "user": {
      "displayName": "Kakigi Katuyuki",
      "photoUrl": "https://lh3.googleusercontent.com/a-/AAuE7mAPb3OlX2ysmc2JV2nXUX_C3MVRAV6O3-HkTzd6=s64",
      "userId": "00784428381987829532"
     },
     "user_tz": -540
    },
    "id": "KI8xVY1eoEwZ",
    "outputId": "94113eb6-7a80-476c-c764-d9db40f0c216",
    "slideshow": {
     "slide_type": "subslide"
    }
   },
   "outputs": [
    {
     "name": "stdout",
     "output_type": "stream",
     "text": [
      "Trying:\n",
      "    add(2, 2)\n",
      "Expecting:\n",
      "    4\n",
      "> <ipython-input-12-96ef0bae1ea7>(9)add()\n",
      "-> return sum\n",
      "(Pdb) sum\n",
      "2\n",
      "(Pdb) help\n",
      "\n",
      "Documented commands (type help <topic>):\n",
      "========================================\n",
      "EOF    c          d        h         list      q        rv       undisplay\n",
      "a      cl         debug    help      ll        quit     s        unt      \n",
      "alias  clear      disable  ignore    longlist  r        source   until    \n",
      "args   commands   display  interact  n         restart  step     up       \n",
      "b      condition  down     j         next      return   tbreak   w        \n",
      "break  cont       enable   jump      p         retval   u        whatis   \n",
      "bt     continue   exit     l         pp        run      unalias  where    \n",
      "\n",
      "Miscellaneous help topics:\n",
      "==========================\n",
      "exec  pdb\n",
      "\n",
      "(Pdb) exit\n",
      "**********************************************************************\n",
      "File \"__main__\", line 4, in __main__.add\n",
      "Failed example:\n",
      "    add(2, 2)\n",
      "Exception raised:\n",
      "    Traceback (most recent call last):\n",
      "      File \"/usr/local/Cellar/python/3.7.4_1/Frameworks/Python.framework/Versions/3.7/lib/python3.7/doctest.py\", line 1329, in __run\n",
      "        compileflags, 1), test.globs)\n",
      "      File \"<doctest __main__.add[0]>\", line 1, in <module>\n",
      "        add(2, 2)\n",
      "      File \"<ipython-input-12-96ef0bae1ea7>\", line 9, in add\n",
      "        return sum\n",
      "      File \"<ipython-input-12-96ef0bae1ea7>\", line 9, in add\n",
      "        return sum\n",
      "      File \"/usr/local/Cellar/python/3.7.4_1/Frameworks/Python.framework/Versions/3.7/lib/python3.7/doctest.py\", line 378, in trace_dispatch\n",
      "        return pdb.Pdb.trace_dispatch(self, *args)\n",
      "      File \"/usr/local/Cellar/python/3.7.4_1/Frameworks/Python.framework/Versions/3.7/lib/python3.7/bdb.py\", line 88, in trace_dispatch\n",
      "        return self.dispatch_line(frame)\n",
      "      File \"/usr/local/Cellar/python/3.7.4_1/Frameworks/Python.framework/Versions/3.7/lib/python3.7/bdb.py\", line 113, in dispatch_line\n",
      "        if self.quitting: raise BdbQuit\n",
      "    bdb.BdbQuit\n",
      "3 items had no tests:\n",
      "    __main__\n",
      "    __main__.TestNotebook\n",
      "    __main__.TestNotebook.test_add\n",
      "**********************************************************************\n",
      "1 items had failures:\n",
      "   1 of   1 in __main__.add\n",
      "1 tests in 4 items.\n",
      "0 passed and 1 failed.\n",
      "***Test Failed*** 1 failures.\n"
     ]
    },
    {
     "data": {
      "text/plain": [
       "TestResults(failed=1, attempted=1)"
      ]
     },
     "execution_count": 12,
     "metadata": {},
     "output_type": "execute_result"
    }
   ],
   "source": [
    "def add(a, b):\n",
    "    \"\"\"Return the sum of a and b.\n",
    "\n",
    "    >>> add(2, 2)\n",
    "    4\n",
    "    \"\"\"\n",
    "    sum = a\n",
    "    import pdb; pdb.set_trace()\n",
    "    return sum\n",
    "    \n",
    "import doctest\n",
    "doctest.testmod(verbose=True)"
   ]
  },
  {
   "cell_type": "code",
   "execution_count": null,
   "metadata": {},
   "outputs": [],
   "source": []
  }
 ],
 "metadata": {
  "celltoolbar": "Slideshow",
  "colab": {
   "collapsed_sections": [],
   "name": "TestingAndDebugging.ipynb",
   "provenance": []
  },
  "kernelspec": {
   "display_name": "Python 3",
   "language": "python",
   "name": "python3"
  },
  "language_info": {
   "codemirror_mode": {
    "name": "ipython",
    "version": 3
   },
   "file_extension": ".py",
   "mimetype": "text/x-python",
   "name": "python",
   "nbconvert_exporter": "python",
   "pygments_lexer": "ipython3",
   "version": "3.7.4"
  }
 },
 "nbformat": 4,
 "nbformat_minor": 1
}
